{
  "nbformat": 4,
  "nbformat_minor": 5,
  "metadata": {
    "kernelspec": {
      "display_name": "Python 3",
      "language": "python",
      "name": "python3"
    },
    "language_info": {
      "codemirror_mode": {
        "name": "ipython",
        "version": 3
      },
      "file_extension": ".py",
      "mimetype": "text/x-python",
      "name": "python",
      "nbconvert_exporter": "python",
      "pygments_lexer": "ipython3",
      "version": "3.6.13"
    },
    "colab": {
      "name": "FlappyBirdDQN.ipynb",
      "provenance": [],
      "include_colab_link": true
    },
    "accelerator": "GPU"
  },
  "cells": [
    {
      "cell_type": "markdown",
      "metadata": {
        "id": "view-in-github",
        "colab_type": "text"
      },
      "source": [
        "<a href=\"https://colab.research.google.com/github/Mctran1724/Games/blob/main/FlappyBirdDQN.ipynb\" target=\"_parent\"><img src=\"https://colab.research.google.com/assets/colab-badge.svg\" alt=\"Open In Colab\"/></a>"
      ]
    },
    {
      "cell_type": "code",
      "metadata": {
        "id": "a399d7c9"
      },
      "source": [
        "import random\n",
        "import numpy as np\n",
        "import flappy_bird_gym\n",
        "from collections import deque\n",
        "from keras.layers import Input, Dense\n",
        "from keras.models import load_model, save_model, Sequential\n",
        "from keras.optimizers import RMSprop\n",
        "import tensorflow as tf\n",
        "from IPython.display import clear_output\n"
      ],
      "id": "a399d7c9",
      "execution_count": 11,
      "outputs": []
    },
    {
      "cell_type": "code",
      "metadata": {
        "colab": {
          "base_uri": "https://localhost:8080/"
        },
        "id": "W4ecgHZFurCA",
        "outputId": "7023e114-c874-4fbd-e0e7-6e69d8859475"
      },
      "source": [
        "device_name = tf.test.gpu_device_name()\n",
        "print('Found GPU at: {}'.format(device_name))"
      ],
      "id": "W4ecgHZFurCA",
      "execution_count": 5,
      "outputs": [
        {
          "output_type": "stream",
          "text": [
            "Found GPU at: /device:GPU:0\n"
          ],
          "name": "stdout"
        }
      ]
    },
    {
      "cell_type": "code",
      "metadata": {
        "id": "cf21e8e1"
      },
      "source": [
        "#Create DQNA\n",
        "\n",
        "def Model(input_shape, output_shape):\n",
        "    model = Sequential()\n",
        "    model.add(Dense(512, input_shape = input_shape, activation = \"relu\", kernel_initializer = \"he_uniform\"))\n",
        "    model.add(Dense(256, activation = 'relu', kernel_initializer = \"he_uniform\"))\n",
        "    model.add(Dense(128, activation = 'relu', kernel_initializer = \"he_uniform\"))\n",
        "    model.add(Dense(64, activation = 'relu', kernel_initializer = \"he_uniform\"))\n",
        "    model.add(Dense(output_shape, activation = 'linear', kernel_initializer = \"he_uniform\"))\n",
        "    model.compile(loss = 'mse', optimizer = RMSprop(lr = 0.0001, rho = 0.95, epsilon = 0.01), metrics = ['accuracy'])\n",
        "    model.summary()\n",
        "    return model\n",
        "\n",
        "\n",
        "    \n",
        "class DQNAgent:\n",
        "    def __init__(self, episodes = 500, gamma = 0.95, epsilon = 1, epsilon_decay = 0.9999, epsilon_min = 0.01, batch_number = 32):\n",
        "        \n",
        "        #environment variables\n",
        "        self.env = flappy_bird_gym.make(\"FlappyBird-v0\")\n",
        "        self.episodes = episodes\n",
        "        self.state_space = self.env.observation_space.shape[0]\n",
        "        self.action_space = self.env.action_space.n\n",
        "        self.memory = deque(maxlen = 2000)\n",
        "        \n",
        "        #hyperparameters\n",
        "        self.gamma = gamma\n",
        "        self.epsilon = epsilon\n",
        "        self.epsilon_decay = epsilon_decay\n",
        "        self.epsilon_min = epsilon_min\n",
        "        self.batch_number = batch_number\n",
        "        \n",
        "        self.train_start = 1000\n",
        "        self.jump_prob = 0.01\n",
        "        \n",
        "        self.model = Model(input_shape = (self.state_space,) , output_shape = self.action_space)\n",
        "    \n",
        "    def act(self, state):\n",
        "        if np.random.random() > self.epsilon:\n",
        "            #As you decay epsilon, your model will act\n",
        "            return np.argmax(self.model.predict(state))\n",
        "        return 1 if np.random.random() < self.jump_prob else 0\n",
        "    \n",
        "    def learn(self):\n",
        "        #Ensure you have enough data by running as many times as self.train_start\n",
        "        if len(self.memory) < self.train_start:\n",
        "            return\n",
        "        else:\n",
        "            #create and storing locations for minibatch info\n",
        "            minibatch = random.sample(self.memory, min(len(self.memory), self.batch_number))\n",
        "            state = np.zeros((self.batch_number, self.state_space))\n",
        "            next_state = np.zeros((self.batch_number, self.state_space))\n",
        "            action, reward, done = [], [], []\n",
        "            \n",
        "            #Store data in variables. Go into the minibatch,\n",
        "            #which has picked out a random memory state and treat those as labels\n",
        "            for i in range(self.batch_number): #iterate over all batches\n",
        "                state[i] = minibatch[i][0]\n",
        "                action.append(minibatch[i][1])\n",
        "                reward.append(minibatch[i][2])\n",
        "                next_state[i] = minibatch[i][3]\n",
        "                done.append(minibatch[i][4])\n",
        "            #predict y label\n",
        "            target = self.model.predict(state)\n",
        "            target_next = self.model.predict(next_state)\n",
        "            \n",
        "            for i in range(self.batch_number): #from Deep Q Network DQN algorithm adapted from Mnih et al 2015.\n",
        "                if done[i]:\n",
        "                    target[i][action[i]] = reward[i]\n",
        "                else:\n",
        "                    target[i][action[i]] = reward[i] + self.gamma * np.amax(target_next[i])\n",
        "\n",
        "            self.model.fit(state, target, batch_size = self.batch_number, verbose = 0)\n",
        "            \n",
        "            \n",
        "    def train(self):\n",
        "        #n episode iterations\n",
        "\n",
        "        for i in range(self.episodes):\n",
        "            #environment variables for training\n",
        "            state = self.env.reset() #reset environment every playthrough\n",
        "            state = np.reshape(state, [1, self.state_space]) #make state space a vector\n",
        "            done = False #done flag\n",
        "            score = 0 \n",
        "            if self.epsilon * self.epsilon_decay > self.epsilon_min: #if your epsilon is greater than the minimum allowed value,\n",
        "                                                                     #decrease it until it hits that\n",
        "                self.epsilon *= self.epsilon_decay \n",
        "            else:\n",
        "                self.epsilon = min_epsilon\n",
        "            while not done:\n",
        "                clear_output(wait = True)\n",
        "                #self.env.render() #render environment\n",
        "                action = self.act(state)\n",
        "                next_state, reward, done, info = self.env.step(action)\n",
        "                \n",
        "                next_state = np.reshape(next_state, [1, self.state_space])\n",
        "                score += 1\n",
        "                \n",
        "                \n",
        "                \n",
        "                if done: #done is whether or not we died so if we die it's bad\n",
        "                    reward -= 100\n",
        "                    \n",
        "                \n",
        "                self.memory.append((state, action, reward, next_state, done))\n",
        "                \n",
        "                state = next_state\n",
        "                \n",
        "                if done: \n",
        "                    if score > 100:\n",
        "                        self.model.save(\"weights.h5\")\n",
        "                    print(\"Episode: {}\\n Score: {}\\n Epsilon: {}\".format(i, score, self.epsilon))\n",
        "                \n",
        "                self.learn()\n",
        "                \n",
        "    def play(self):\n",
        "        self.model = load_model(\"weights.h5\")\n",
        "        while True:\n",
        "            state = self.env.reset()\n",
        "            state = np.reshape(state, [1, self.state_space])    \n",
        "            done = False\n",
        "            score = 0\n",
        "            \n",
        "            while not done:\n",
        "                self.env.render()\n",
        "                action = np.argmax(self.model.predict(state)) #make your action a predicted action\n",
        "                next_sate, reward, done, info = self.env.step(action)\n",
        "                state = np.reshape(next_state, [1, self.state_space])\n",
        "                score += 1\n",
        "                print(\"Current score: {}\".format(score))\n",
        "                \n",
        "                if done:\n",
        "                    print(\"You died.\")\n",
        "                    break\n",
        "            break\n",
        "                \n",
        "                \n",
        "                "
      ],
      "id": "cf21e8e1",
      "execution_count": 19,
      "outputs": []
    },
    {
      "cell_type": "code",
      "metadata": {
        "colab": {
          "base_uri": "https://localhost:8080/"
        },
        "id": "e4091711",
        "outputId": "bba0893e-a7dd-4a17-a555-8bd7b0d9f30d"
      },
      "source": [
        "agent = DQNAgent()\n",
        "with tf.device(device_name):\n",
        "  agent.train()\n"
      ],
      "id": "e4091711",
      "execution_count": 20,
      "outputs": [
        {
          "output_type": "stream",
          "text": [
            "Episode: 499\n",
            " Score: 70\n",
            " Epsilon: 0.9512270462715811\n"
          ],
          "name": "stdout"
        }
      ]
    },
    {
      "cell_type": "code",
      "metadata": {
        "colab": {
          "base_uri": "https://localhost:8080/",
          "height": 35
        },
        "id": "NVrvc4GS0jeP",
        "outputId": "0e702de0-64de-4b52-eae6-eefc4c189111"
      },
      "source": [
        "agent.play()"
      ],
      "id": "NVrvc4GS0jeP",
      "execution_count": 21,
      "outputs": [
        {
          "output_type": "execute_result",
          "data": {
            "application/vnd.google.colaboratory.intrinsic+json": {
              "type": "string"
            },
            "text/plain": [
              "'/content'"
            ]
          },
          "metadata": {
            "tags": []
          },
          "execution_count": 21
        }
      ]
    },
    {
      "cell_type": "code",
      "metadata": {
        "id": "5f7b1326"
      },
      "source": [
        ""
      ],
      "id": "5f7b1326",
      "execution_count": null,
      "outputs": []
    }
  ]
}
